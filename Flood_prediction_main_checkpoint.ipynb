{
  "nbformat": 4,
  "nbformat_minor": 0,
  "metadata": {
    "kernelspec": {
      "display_name": "Python 3",
      "language": "python",
      "name": "python3"
    },
    "language_info": {
      "codemirror_mode": {
        "name": "ipython",
        "version": 3
      },
      "file_extension": ".py",
      "mimetype": "text/x-python",
      "name": "python",
      "nbconvert_exporter": "python",
      "pygments_lexer": "ipython3",
      "version": "3.7.6"
    },
    "colab": {
      "name": "Flood prediction main-checkpoint.ipynb",
      "provenance": [],
      "collapsed_sections": []
    }
  },
  "cells": [
    {
      "cell_type": "code",
      "metadata": {
        "colab": {
          "base_uri": "https://localhost:8080/",
          "height": 1000
        },
        "id": "cAgaHrmwCEMC",
        "outputId": "14f3c4ff-635b-41a1-892b-982f1d9c7eea"
      },
      "source": [
        "import numpy as np\n",
        "import pandas as pd\n",
        "data =  pd.read_csv('kerala.csv')\n",
        "data.head()\n",
        "data.apply(lambda x:sum(x.isnull()), axis=0)\n",
        "data['FLOODS'].replace(['YES','NO'],[1,0],inplace=True)\n",
        "data.head()\n",
        "x = data.iloc[:,1:14]\n",
        "x.head()\n",
        "y = data.iloc[:, -1]\n",
        "y.head()\n",
        "import matplotlib.pyplot as plt\n",
        "%matplotlib inline\n",
        "c = data[['JUN','JUL','AUG','SEP']]\n",
        "c.hist()\n",
        "plt.show()\n",
        "from sklearn import preprocessing\n",
        "minmax = preprocessing.MinMaxScaler(feature_range=(0,1))\n",
        "minmax.fit(x).transform(x)\n",
        "from sklearn import model_selection,neighbors\n",
        "from sklearn.model_selection import train_test_split\n",
        "x_train,x_test,y_train,y_test=train_test_split(x,y,test_size=0.2)\n",
        "x_train.head()\n",
        "y_train.head()\n",
        "clf = neighbors.KNeighborsClassifier()\n",
        "knn_clf = clf.fit(x_train,y_train)\n",
        "y_predict = knn_clf.predict(x_test)\n",
        "print('predicted chances of flood')\n",
        "print(y_predict)\n",
        "print(\"actual values of floods:\")\n",
        "print(y_test)\n",
        "from sklearn.model_selection import cross_val_score\n",
        "knn_accuracy = cross_val_score(knn_clf,x_test,y_test,cv=3,scoring='accuracy',n_jobs=-1)\n",
        "knn_accuracy.mean()\n",
        "x_train,x_test,y_train,y_test=train_test_split(x,y,test_size=0.2)\n",
        "x_train.head()\n",
        "y_train.head()\n",
        "x_train_std = minmax.fit_transform(x_train)\n",
        "x_test_std = minmax.transform(x_test)\n",
        "from sklearn.model_selection import cross_val_score\n",
        "from sklearn.linear_model import LogisticRegression\n",
        "\n",
        "lr = LogisticRegression()\n",
        "lr_clf = lr.fit(x_train_std,y_train)\n",
        "\n",
        "lr_accuracy = cross_val_score(lr_clf,x_test_std,y_test,cv=3,scoring='accuracy',n_jobs=-1)\n",
        "lr_accuracy.mean()\n",
        "y_predict = lr_clf.predict(x_test_std)\n",
        "print('Predicted chances of flood')\n",
        "print(y_predict)\n",
        "print('Actual chances of flood')\n",
        "print(y_test.values)\n",
        "from sklearn.metrics import accuracy_score,recall_score,roc_auc_score,confusion_matrix\n",
        "print(\"\\naccuracy score: %f\"%(accuracy_score(y_test,y_predict)*100))\n",
        "print(\"recall score: %f\"%(recall_score(y_test,y_predict)*100))\n",
        "print(\"roc score: %f\"%(roc_auc_score(y_test,y_predict)*100))\n",
        "from sklearn.tree import DecisionTreeClassifier\n",
        "dtc_clf = DecisionTreeClassifier()\n",
        "dtc_clf.fit(x_train,y_train)\n",
        "dtc_clf_acc = cross_val_score(dtc_clf,x_train_std,y_train,cv=3,scoring=\"accuracy\",n_jobs=-1)\n",
        "dtc_clf_acc\n",
        "y_pred = dtc_clf.predict(x_test)\n",
        "print(y_pred)\n",
        "print(\"actual values:\")\n",
        "print(y_test.values)\n",
        "from sklearn.metrics import accuracy_score,recall_score,roc_auc_score,confusion_matrix\n",
        "print(\"\\naccuracy score:%f\"%(accuracy_score(y_test,y_pred)*100))\n",
        "print(\"recall score:%f\"%(recall_score(y_test,y_pred)*100))\n",
        "print(\"roc score:%f\"%(roc_auc_score(y_test,y_pred)*100))\n",
        "from sklearn.ensemble import RandomForestClassifier\n",
        "rmf = RandomForestClassifier(max_depth=3,random_state=0)\n",
        "rmf_clf = rmf.fit(x_train,y_train)\n",
        "rmf_clf\n",
        "rmf_clf_acc = cross_val_score(rmf_clf,x_train_std,y_train,cv=3,scoring=\"accuracy\",n_jobs=-1)\n",
        "rmf_clf_acc\n",
        "y_pred = rmf_clf.predict(x_test)\n",
        "from sklearn.metrics import accuracy_score,recall_score,roc_auc_score,confusion_matrix\n",
        "print(\"\\naccuracy score:%f\"%(accuracy_score(y_test,y_pred)*100))\n",
        "print(\"recall score:%f\"%(recall_score(y_test,y_pred)*100))\n",
        "print(\"roc score:%f\"%(roc_auc_score(y_test,y_pred)*100))\n",
        "from sklearn.ensemble import VotingClassifier\n",
        "from sklearn.ensemble import RandomForestClassifier\n",
        "from sklearn.linear_model import LogisticRegression\n",
        "from sklearn.neighbors import KNeighborsClassifier\n",
        "\n",
        "log_clf = LogisticRegression(solver=\"liblinear\", random_state=42)\n",
        "rnd_clf = RandomForestClassifier(n_estimators=10, random_state=42)\n",
        "knn_clf = KNeighborsClassifier()\n",
        "\n",
        "voting = VotingClassifier(\n",
        "    estimators=[('lr', log_clf), ('rf', rnd_clf), ('knn', knn_clf)],\n",
        "    voting='hard')\n",
        "voting_clf = voting.fit(x_train, y_train)\n",
        "from sklearn.metrics import accuracy_score\n",
        "\n",
        "for clf in (log_clf, rnd_clf, knn_clf, voting_clf):\n",
        "    clf.fit(x_train, y_train)\n",
        "    y_pred = clf.predict(x_test)\n",
        "    print(clf.__class__.__name__, accuracy_score(y_test, y_pred))\n",
        "    models = []\n",
        "from sklearn.neighbors import KNeighborsClassifier\n",
        "from sklearn.linear_model import LogisticRegression\n",
        "from sklearn.tree import DecisionTreeClassifier\n",
        "from sklearn.svm import SVC\n",
        "from sklearn.ensemble import RandomForestClassifier\n",
        "from sklearn.ensemble import VotingClassifier\n",
        "models.append(('KNN', KNeighborsClassifier()))\n",
        "models.append(('LR', LogisticRegression()))\n",
        "models.append(('DT', DecisionTreeClassifier()))\n",
        "models.append(('RF', RandomForestClassifier()))\n",
        "models.append(('EL', VotingClassifier(\n",
        "    estimators=[('lr', log_clf), ('rf', rnd_clf), ('knn', knn_clf)],\n",
        "    voting='hard')))\n",
        "\n",
        "\n",
        "names = []\n",
        "scores = []\n",
        "for name, model in models:\n",
        "    model.fit(x_train, y_train)\n",
        "    y_pred = model.predict(x_test)\n",
        "    scores.append(accuracy_score(y_test, y_pred))\n",
        "    names.append(name)\n",
        "tr_split = pd.DataFrame({'Name': names, 'Score': scores})\n",
        "print(tr_split)\n",
        "import seaborn as sns\n",
        "axis = sns.barplot(x = 'Name', y = 'Score', data =tr_split )\n",
        "axis.set(xlabel='Classifier', ylabel='Accuracy')\n",
        "for p in axis.patches:\n",
        "    height = p.get_height()\n",
        "    axis.text(p.get_x() + p.get_width()/2, height + 0.005, '{:1.4f}'.format(height), ha=\"center\") \n",
        "    \n",
        "plt.show()"
      ],
      "execution_count": 2,
      "outputs": [
        {
          "output_type": "display_data",
          "data": {
            "image/png": "[encoded data removed]",
            "text/plain": [
              "<Figure size 432x288 with 4 Axes>"
            ]
          },
          "metadata": {
            "tags": [],
            "needs_background": "light"
          }
        },
        {
          "output_type": "stream",
          "text": [
            "predicted chances of flood\n",
            "[0 0 1 0 0 1 1 1 1 0 1 1 0 0 1 1 1 1 1 1 0 1 1 0]\n",
            "actual values of floods:\n",
            "87     0\n",
            "89     0\n",
            "30     1\n",
            "102    0\n",
            "81     0\n",
            "38     1\n",
            "15     1\n",
            "42     1\n",
            "105    1\n",
            "92     0\n",
            "11     1\n",
            "21     1\n",
            "46     1\n",
            "37     0\n",
            "39     1\n",
            "31     1\n",
            "48     1\n",
            "2      1\n",
            "91     1\n",
            "117    1\n",
            "66     0\n",
            "74     1\n",
            "110    1\n",
            "12     0\n",
            "Name: FLOODS, dtype: int64\n",
            "Predicted chances of flood\n",
            "[1 0 1 0 0 0 1 1 1 1 0 1 0 1 0 0 0 0 1 0 1 1 0 0]\n",
            "Actual chances of flood\n",
            "[1 0 1 0 0 1 1 1 1 1 0 1 0 1 1 0 0 0 1 0 1 1 0 0]\n",
            "\n",
            "accuracy score: 91.666667\n",
            "recall score: 84.615385\n",
            "roc score: 92.307692\n",
            "[1 0 0 0 0 1 0 1 0 1 0 0 0 0 1 0 0 0 1 0 1 1 0 0]\n",
            "actual values:\n",
            "[1 0 1 0 0 1 1 1 1 1 0 1 0 1 1 0 0 0 1 0 1 1 0 0]\n",
            "\n",
            "accuracy score:79.166667\n",
            "recall score:61.538462\n",
            "roc score:80.769231\n",
            "\n",
            "accuracy score:75.000000\n",
            "recall score:61.538462\n",
            "roc score:76.223776\n",
            "LogisticRegression 0.9166666666666666\n",
            "RandomForestClassifier 0.5\n",
            "KNeighborsClassifier 0.8333333333333334\n",
            "VotingClassifier 0.7916666666666666\n"
          ],
          "name": "stdout"
        },
        {
          "output_type": "stream",
          "text": [
            "/usr/local/lib/python3.7/dist-packages/sklearn/linear_model/_logistic.py:940: ConvergenceWarning: lbfgs failed to converge (status=1):\n",
            "STOP: TOTAL NO. of ITERATIONS REACHED LIMIT.\n",
            "\n",
            "Increase the number of iterations (max_iter) or scale the data as shown in:\n",
            "    https://scikit-learn.org/stable/modules/preprocessing.html\n",
            "Please also refer to the documentation for alternative solver options:\n",
            "    https://scikit-learn.org/stable/modules/linear_model.html#logistic-regression\n",
            "  extra_warning_msg=_LOGISTIC_SOLVER_CONVERGENCE_MSG)\n"
          ],
          "name": "stderr"
        },
        {
          "output_type": "stream",
          "text": [
            "  Name     Score\n",
            "0  KNN  0.833333\n",
            "1   LR  0.916667\n",
            "2   DT  0.750000\n",
            "3   RF  0.791667\n",
            "4   EL  0.791667\n"
          ],
          "name": "stdout"
        },
        {
          "output_type": "display_data",
          "data": {
            "image/png": "[encoded data removed]",
            "text/plain": [
              "<Figure size 432x288 with 1 Axes>"
            ]
          },
          "metadata": {
            "tags": [],
            "needs_background": "light"
          }
        }
      ]
    },
    {
      "cell_type": "code",
      "metadata": {
        "id": "Iv9OZcMbCEMZ"
      },
      "source": [
        ""
      ],
      "execution_count": null,
      "outputs": []
    }
  ]
}